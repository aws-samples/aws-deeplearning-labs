{
 "cells": [
  {
   "cell_type": "markdown",
   "id": "9ff4b41e-c9bc-4c15-9536-3f3e6fa783fb",
   "metadata": {},
   "source": [
    "# PyTorch Inference using KServe on AWS Kubeflow Distribution\n",
    "\n",
    "\n",
    "In this example, we deploy a trained PyTorch CNN image classification model to predict CIFAR 10 images by running an InferenceService with TorchServe runtime which is the default installed serving runtime for PyTorch models.\n",
    "\n",
    "We will create KServe InferenceService yaml, pipeline, and will run the inference all from this notebook "
   ]
  },
  {
   "cell_type": "markdown",
   "id": "baaf7442-969a-4cae-87c0-76b790c2d606",
   "metadata": {},
   "source": [
    "The KServe/TorchServe integration expects following model store layout on the storage with TorchServe Model Archive and Model Configuration.\n"
   ]
  },
  {
   "cell_type": "raw",
   "id": "1d92be2b-02e0-4ea8-8033-39c721631a29",
   "metadata": {},
   "source": [
    "├── config\n",
    "│   ├── config.properties\n",
    "├── model-store\n",
    "│   ├── densenet_161.mar\n",
    "│   ├── mnist.mar\n"
   ]
  },
  {
   "cell_type": "markdown",
   "id": "4dc7ba1d-8dd6-43eb-a4db-82211b8d4f96",
   "metadata": {},
   "source": [
    "TorchServe provides a utility to package all the model artifacts into a single TorchServe Model Archive Files (MAR), after model artifacts are packaged into MAR file you then upload to the model-store under model storage path which will be S3 in this example."
   ]
  },
  {
   "cell_type": "code",
   "execution_count": 1,
   "id": "e03112ae-20e0-41a7-bfba-7f793902a849",
   "metadata": {
    "collapsed": true,
    "jupyter": {
     "outputs_hidden": true
    },
    "tags": []
   },
   "outputs": [
    {
     "name": "stdout",
     "output_type": "stream",
     "text": [
      "Defaulting to user installation because normal site-packages is not writeable\n",
      "Collecting kserve==0.7.0\n",
      "  Downloading kserve-0.7.0-py3-none-any.whl (284 kB)\n",
      "\u001b[2K     \u001b[90m━━━━━━━━━━━━━━━━━━━━━━━━━━━━━━━━━━━━━━━\u001b[0m \u001b[32m284.9/284.9 kB\u001b[0m \u001b[31m7.8 MB/s\u001b[0m eta \u001b[36m0:00:00\u001b[0ma \u001b[36m0:00:01\u001b[0m\n",
      "\u001b[?25hRequirement already satisfied: cloudevents>=1.2.0 in /opt/conda/lib/python3.8/site-packages (from kserve==0.7.0) (1.6.1)\n",
      "Requirement already satisfied: numpy>=1.17.3 in /opt/conda/lib/python3.8/site-packages (from kserve==0.7.0) (1.21.6)\n",
      "Collecting azure-core==1.17.0\n",
      "  Downloading azure_core-1.17.0-py2.py3-none-any.whl (165 kB)\n",
      "\u001b[2K     \u001b[90m━━━━━━━━━━━━━━━━━━━━━━━━━━━━━━━━━━━━━━\u001b[0m \u001b[32m165.8/165.8 kB\u001b[0m \u001b[31m36.9 MB/s\u001b[0m eta \u001b[36m0:00:00\u001b[0m\n",
      "\u001b[?25hRequirement already satisfied: urllib3>=1.15.1 in /opt/conda/lib/python3.8/site-packages (from kserve==0.7.0) (1.26.11)\n",
      "Collecting google-cloud-storage==1.41.1\n",
      "  Downloading google_cloud_storage-1.41.1-py2.py3-none-any.whl (105 kB)\n",
      "\u001b[2K     \u001b[90m━━━━━━━━━━━━━━━━━━━━━━━━━━━━━━━━━━━━━━\u001b[0m \u001b[32m105.0/105.0 kB\u001b[0m \u001b[31m27.5 MB/s\u001b[0m eta \u001b[36m0:00:00\u001b[0m\n",
      "\u001b[?25hRequirement already satisfied: table-logger>=0.3.5 in /opt/conda/lib/python3.8/site-packages (from kserve==0.7.0) (0.3.6)\n",
      "Collecting grpcio==1.38.1\n",
      "  Downloading grpcio-1.38.1-cp38-cp38-manylinux2014_x86_64.whl (4.2 MB)\n",
      "\u001b[2K     \u001b[90m━━━━━━━━━━━━━━━━━━━━━━━━━━━━━━━━━━━━━━━━\u001b[0m \u001b[32m4.2/4.2 MB\u001b[0m \u001b[31m63.1 MB/s\u001b[0m eta \u001b[36m0:00:00\u001b[0ma \u001b[36m0:00:01\u001b[0m\n",
      "\u001b[?25hCollecting cachetools==4.2.2\n",
      "  Downloading cachetools-4.2.2-py3-none-any.whl (11 kB)\n",
      "Collecting azure-storage-blob==12.8.1\n",
      "  Downloading azure_storage_blob-12.8.1-py2.py3-none-any.whl (345 kB)\n",
      "\u001b[2K     \u001b[90m━━━━━━━━━━━━━━━━━━━━━━━━━━━━━━━━━━━━━━\u001b[0m \u001b[32m345.8/345.8 kB\u001b[0m \u001b[31m46.4 MB/s\u001b[0m eta \u001b[36m0:00:00\u001b[0m\n",
      "\u001b[?25hRequirement already satisfied: setuptools>=21.0.0 in /opt/conda/lib/python3.8/site-packages (from kserve==0.7.0) (65.4.0)\n",
      "Collecting argparse>=1.4.0\n",
      "  Downloading argparse-1.4.0-py2.py3-none-any.whl (23 kB)\n",
      "Collecting azure-identity==1.6.0\n",
      "  Downloading azure_identity-1.6.0-py2.py3-none-any.whl (108 kB)\n",
      "\u001b[2K     \u001b[90m━━━━━━━━━━━━━━━━━━━━━━━━━━━━━━━━━━━━━━\u001b[0m \u001b[32m108.5/108.5 kB\u001b[0m \u001b[31m27.7 MB/s\u001b[0m eta \u001b[36m0:00:00\u001b[0m\n",
      "\u001b[?25hRequirement already satisfied: avro>=1.10.1 in /opt/conda/lib/python3.8/site-packages (from kserve==0.7.0) (1.11.1)\n",
      "Requirement already satisfied: jmespath==0.10.0 in /opt/conda/lib/python3.8/site-packages (from kserve==0.7.0) (0.10.0)\n",
      "Requirement already satisfied: certifi>=14.05.14 in /opt/conda/lib/python3.8/site-packages (from kserve==0.7.0) (2022.9.24)\n",
      "Collecting googleapis-common-protos==1.53.0\n",
      "  Downloading googleapis_common_protos-1.53.0-py2.py3-none-any.whl (198 kB)\n",
      "\u001b[2K     \u001b[90m━━━━━━━━━━━━━━━━━━━━━━━━━━━━━━━━━━━━━━\u001b[0m \u001b[32m198.2/198.2 kB\u001b[0m \u001b[31m45.5 MB/s\u001b[0m eta \u001b[36m0:00:00\u001b[0m\n",
      "\u001b[?25hCollecting cffi==1.14.6\n",
      "  Downloading cffi-1.14.6-cp38-cp38-manylinux1_x86_64.whl (411 kB)\n",
      "\u001b[2K     \u001b[90m━━━━━━━━━━━━━━━━━━━━━━━━━━━━━━━━━━━━━━\u001b[0m \u001b[32m411.7/411.7 kB\u001b[0m \u001b[31m58.7 MB/s\u001b[0m eta \u001b[36m0:00:00\u001b[0m\n",
      "\u001b[?25hRequirement already satisfied: six>=1.15 in /opt/conda/lib/python3.8/site-packages (from kserve==0.7.0) (1.16.0)\n",
      "Collecting google-auth==1.34.0\n",
      "  Downloading google_auth-1.34.0-py2.py3-none-any.whl (152 kB)\n",
      "\u001b[2K     \u001b[90m━━━━━━━━━━━━━━━━━━━━━━━━━━━━━━━━━━━━━━\u001b[0m \u001b[32m152.9/152.9 kB\u001b[0m \u001b[31m38.3 MB/s\u001b[0m eta \u001b[36m0:00:00\u001b[0m\n",
      "\u001b[?25hCollecting google-api-core==1.29.0\n",
      "  Downloading google_api_core-1.29.0-py2.py3-none-any.whl (93 kB)\n",
      "\u001b[2K     \u001b[90m━━━━━━━━━━━━━━━━━━━━━━━━━━━━━━━━━━━━━━━━\u001b[0m \u001b[32m93.1/93.1 kB\u001b[0m \u001b[31m26.7 MB/s\u001b[0m eta \u001b[36m0:00:00\u001b[0m\n",
      "\u001b[?25hCollecting cryptography==3.4.7\n",
      "  Downloading cryptography-3.4.7-cp36-abi3-manylinux2014_x86_64.whl (3.2 MB)\n",
      "\u001b[2K     \u001b[90m━━━━━━━━━━━━━━━━━━━━━━━━━━━━━━━━━━━━━━━━\u001b[0m \u001b[32m3.2/3.2 MB\u001b[0m \u001b[31m114.4 MB/s\u001b[0m eta \u001b[36m0:00:00\u001b[0m\n",
      "\u001b[?25hRequirement already satisfied: deprecation==2.1.0 in /opt/conda/lib/python3.8/site-packages (from kserve==0.7.0) (2.1.0)\n",
      "Collecting ray[serve]==1.5.0\n",
      "  Downloading ray-1.5.0-cp38-cp38-manylinux2014_x86_64.whl (51.3 MB)\n",
      "\u001b[2K     \u001b[90m━━━━━━━━━━━━━━━━━━━━━━━━━━━━━━━━━━━━━━━━\u001b[0m \u001b[32m51.3/51.3 MB\u001b[0m \u001b[31m9.3 MB/s\u001b[0m eta \u001b[36m0:00:00\u001b[0m:00:01\u001b[0m0:01\u001b[0mm\n",
      "\u001b[?25hCollecting botocore==1.21.18\n",
      "  Downloading botocore-1.21.18-py3-none-any.whl (7.8 MB)\n",
      "\u001b[2K     \u001b[90m━━━━━━━━━━━━━━━━━━━━━━━━━━━━━━━━━━━━━━━━\u001b[0m \u001b[32m7.8/7.8 MB\u001b[0m \u001b[31m95.7 MB/s\u001b[0m eta \u001b[36m0:00:00\u001b[0m:00:01\u001b[0m00:01\u001b[0m\n",
      "\u001b[?25hRequirement already satisfied: tornado>=6.0.0 in /opt/conda/lib/python3.8/site-packages (from kserve==0.7.0) (6.2)\n",
      "Requirement already satisfied: adal>=1.2.2 in /opt/conda/lib/python3.8/site-packages (from kserve==0.7.0) (1.2.7)\n",
      "Collecting idna==3.2\n",
      "  Downloading idna-3.2-py3-none-any.whl (59 kB)\n",
      "\u001b[2K     \u001b[90m━━━━━━━━━━━━━━━━━━━━━━━━━━━━━━━━━━━━━━━━\u001b[0m \u001b[32m59.6/59.6 kB\u001b[0m \u001b[31m15.8 MB/s\u001b[0m eta \u001b[36m0:00:00\u001b[0m\n",
      "\u001b[?25hCollecting minio<7.0.0,>=4.0.9\n",
      "  Downloading minio-6.0.2-py2.py3-none-any.whl (73 kB)\n",
      "\u001b[2K     \u001b[90m━━━━━━━━━━━━━━━━━━━━━━━━━━━━━━━━━━━━━━━━\u001b[0m \u001b[32m73.1/73.1 kB\u001b[0m \u001b[31m19.8 MB/s\u001b[0m eta \u001b[36m0:00:00\u001b[0m\n",
      "\u001b[?25hRequirement already satisfied: psutil>=5.0 in /opt/conda/lib/python3.8/site-packages (from kserve==0.7.0) (5.9.0)\n",
      "Collecting boto3==1.18.18\n",
      "  Downloading boto3-1.18.18-py3-none-any.whl (131 kB)\n",
      "\u001b[2K     \u001b[90m━━━━━━━━━━━━━━━━━━━━━━━━━━━━━━━━━━━━━━\u001b[0m \u001b[32m131.6/131.6 kB\u001b[0m \u001b[31m31.7 MB/s\u001b[0m eta \u001b[36m0:00:00\u001b[0m\n",
      "\u001b[?25hRequirement already satisfied: kubernetes>=12.0.0 in /opt/conda/lib/python3.8/site-packages (from kserve==0.7.0) (18.20.0)\n",
      "Collecting certifi>=14.05.14\n",
      "  Downloading certifi-2021.5.30-py2.py3-none-any.whl (145 kB)\n",
      "\u001b[2K     \u001b[90m━━━━━━━━━━━━━━━━━━━━━━━━━━━━━━━━━━━━━━\u001b[0m \u001b[32m145.5/145.5 kB\u001b[0m \u001b[31m34.6 MB/s\u001b[0m eta \u001b[36m0:00:00\u001b[0m\n",
      "\u001b[?25hRequirement already satisfied: python-dateutil>=2.5.3 in /opt/conda/lib/python3.8/site-packages (from kserve==0.7.0) (2.8.2)\n",
      "Requirement already satisfied: requests>=2.18.4 in /opt/conda/lib/python3.8/site-packages (from azure-core==1.17.0->kserve==0.7.0) (2.28.1)\n",
      "Collecting msal-extensions~=0.3.0\n",
      "  Downloading msal_extensions-0.3.1-py2.py3-none-any.whl (18 kB)\n",
      "Requirement already satisfied: msal<2.0.0,>=1.7.0 in /opt/conda/lib/python3.8/site-packages (from azure-identity==1.6.0->kserve==0.7.0) (1.20.0)\n",
      "Requirement already satisfied: msrest>=0.6.18 in /opt/conda/lib/python3.8/site-packages (from azure-storage-blob==12.8.1->kserve==0.7.0) (0.7.1)\n",
      "Collecting s3transfer<0.6.0,>=0.5.0\n",
      "  Downloading s3transfer-0.5.2-py3-none-any.whl (79 kB)\n",
      "\u001b[2K     \u001b[90m━━━━━━━━━━━━━━━━━━━━━━━━━━━━━━━━━━━━━━━━\u001b[0m \u001b[32m79.5/79.5 kB\u001b[0m \u001b[31m21.5 MB/s\u001b[0m eta \u001b[36m0:00:00\u001b[0m\n",
      "\u001b[?25hRequirement already satisfied: pycparser in /opt/conda/lib/python3.8/site-packages (from cffi==1.14.6->kserve==0.7.0) (2.21)\n",
      "Requirement already satisfied: packaging in /opt/conda/lib/python3.8/site-packages (from deprecation==2.1.0->kserve==0.7.0) (21.3)\n",
      "Requirement already satisfied: pytz in /opt/conda/lib/python3.8/site-packages (from google-api-core==1.29.0->kserve==0.7.0) (2022.4)\n",
      "Requirement already satisfied: protobuf>=3.12.0 in /opt/conda/lib/python3.8/site-packages (from google-api-core==1.29.0->kserve==0.7.0) (3.19.6)\n",
      "Requirement already satisfied: pyasn1-modules>=0.2.1 in /opt/conda/lib/python3.8/site-packages (from google-auth==1.34.0->kserve==0.7.0) (0.2.8)\n",
      "Requirement already satisfied: rsa<5,>=3.1.4 in /opt/conda/lib/python3.8/site-packages (from google-auth==1.34.0->kserve==0.7.0) (4.7.2)\n",
      "Requirement already satisfied: google-resumable-media<3.0dev,>=1.3.0 in /opt/conda/lib/python3.8/site-packages (from google-cloud-storage==1.41.1->kserve==0.7.0) (2.4.0)\n",
      "Requirement already satisfied: google-cloud-core<3.0dev,>=1.6.0 in /opt/conda/lib/python3.8/site-packages (from google-cloud-storage==1.41.1->kserve==0.7.0) (2.3.2)\n",
      "Requirement already satisfied: opencensus in /opt/conda/lib/python3.8/site-packages (from ray[serve]==1.5.0->kserve==0.7.0) (0.11.0)\n",
      "Requirement already satisfied: filelock in /opt/conda/lib/python3.8/site-packages (from ray[serve]==1.5.0->kserve==0.7.0) (3.8.0)\n",
      "Requirement already satisfied: py-spy>=0.2.0 in /opt/conda/lib/python3.8/site-packages (from ray[serve]==1.5.0->kserve==0.7.0) (0.3.14)\n",
      "Requirement already satisfied: aiohttp-cors in /opt/conda/lib/python3.8/site-packages (from ray[serve]==1.5.0->kserve==0.7.0) (0.7.0)\n",
      "Requirement already satisfied: prometheus-client>=0.7.1 in /opt/conda/lib/python3.8/site-packages (from ray[serve]==1.5.0->kserve==0.7.0) (0.14.1)\n",
      "Requirement already satisfied: jsonschema in /opt/conda/lib/python3.8/site-packages (from ray[serve]==1.5.0->kserve==0.7.0) (3.2.0)\n",
      "Requirement already satisfied: colorama in /opt/conda/lib/python3.8/site-packages (from ray[serve]==1.5.0->kserve==0.7.0) (0.4.3)\n",
      "Requirement already satisfied: msgpack<2.0.0,>=1.0.0 in /opt/conda/lib/python3.8/site-packages (from ray[serve]==1.5.0->kserve==0.7.0) (1.0.4)\n",
      "Requirement already satisfied: gpustat in /opt/conda/lib/python3.8/site-packages (from ray[serve]==1.5.0->kserve==0.7.0) (1.0.0)\n",
      "Requirement already satisfied: pydantic>=1.8 in /opt/conda/lib/python3.8/site-packages (from ray[serve]==1.5.0->kserve==0.7.0) (1.9.2)\n",
      "Requirement already satisfied: pyyaml in /home/jovyan/.local/lib/python3.8/site-packages (from ray[serve]==1.5.0->kserve==0.7.0) (6.0)\n",
      "Requirement already satisfied: aioredis in /opt/conda/lib/python3.8/site-packages (from ray[serve]==1.5.0->kserve==0.7.0) (1.3.1)\n",
      "Requirement already satisfied: click>=7.0 in /home/jovyan/.local/lib/python3.8/site-packages (from ray[serve]==1.5.0->kserve==0.7.0) (7.1.2)\n",
      "Requirement already satisfied: aiohttp in /opt/conda/lib/python3.8/site-packages (from ray[serve]==1.5.0->kserve==0.7.0) (3.8.3)\n",
      "Requirement already satisfied: redis>=3.5.0 in /opt/conda/lib/python3.8/site-packages (from ray[serve]==1.5.0->kserve==0.7.0) (4.3.4)\n",
      "Requirement already satisfied: uvicorn in /opt/conda/lib/python3.8/site-packages (from ray[serve]==1.5.0->kserve==0.7.0) (0.18.3)\n",
      "Requirement already satisfied: starlette in /opt/conda/lib/python3.8/site-packages (from ray[serve]==1.5.0->kserve==0.7.0) (0.20.4)\n",
      "Requirement already satisfied: fastapi in /opt/conda/lib/python3.8/site-packages (from ray[serve]==1.5.0->kserve==0.7.0) (0.85.0)\n",
      "Requirement already satisfied: PyJWT<3,>=1.0.0 in /opt/conda/lib/python3.8/site-packages (from adal>=1.2.2->kserve==0.7.0) (2.5.0)\n",
      "Requirement already satisfied: requests-oauthlib in /opt/conda/lib/python3.8/site-packages (from kubernetes>=12.0.0->kserve==0.7.0) (1.3.1)\n",
      "Requirement already satisfied: websocket-client!=0.40.0,!=0.41.*,!=0.42.*,>=0.32.0 in /opt/conda/lib/python3.8/site-packages (from kubernetes>=12.0.0->kserve==0.7.0) (1.4.1)\n",
      "Collecting configparser\n",
      "  Downloading configparser-5.3.0-py3-none-any.whl (19 kB)\n",
      "Collecting google-cloud-core<3.0dev,>=1.6.0\n",
      "  Downloading google_cloud_core-2.3.1-py2.py3-none-any.whl (29 kB)\n",
      "  Downloading google_cloud_core-2.3.0-py2.py3-none-any.whl (29 kB)\n",
      "  Downloading google_cloud_core-2.2.3-py2.py3-none-any.whl (29 kB)\n",
      "  Downloading google_cloud_core-2.2.2-py2.py3-none-any.whl (29 kB)\n",
      "Requirement already satisfied: google-crc32c<2.0dev,>=1.0 in /opt/conda/lib/python3.8/site-packages (from google-resumable-media<3.0dev,>=1.3.0->google-cloud-storage==1.41.1->kserve==0.7.0) (1.5.0)\n",
      "Requirement already satisfied: portalocker<3,>=1.0 in /opt/conda/lib/python3.8/site-packages (from msal-extensions~=0.3.0->azure-identity==1.6.0->kserve==0.7.0) (2.5.1)\n",
      "Collecting msrest>=0.6.18\n",
      "  Downloading msrest-0.6.21-py2.py3-none-any.whl (85 kB)\n",
      "\u001b[2K     \u001b[90m━━━━━━━━━━━━━━━━━━━━━━━━━━━━━━━━━━━━━━━━\u001b[0m \u001b[32m85.2/85.2 kB\u001b[0m \u001b[31m23.2 MB/s\u001b[0m eta \u001b[36m0:00:00\u001b[0m\n",
      "\u001b[?25hRequirement already satisfied: isodate>=0.6.0 in /opt/conda/lib/python3.8/site-packages (from msrest>=0.6.18->azure-storage-blob==12.8.1->kserve==0.7.0) (0.6.1)\n",
      "Requirement already satisfied: pyparsing!=3.0.5,>=2.0.2 in /opt/conda/lib/python3.8/site-packages (from packaging->deprecation==2.1.0->kserve==0.7.0) (3.0.9)\n",
      "Requirement already satisfied: pyasn1<0.5.0,>=0.4.6 in /opt/conda/lib/python3.8/site-packages (from pyasn1-modules>=0.2.1->google-auth==1.34.0->kserve==0.7.0) (0.4.8)\n",
      "Requirement already satisfied: typing-extensions>=3.7.4.3 in /home/jovyan/.local/lib/python3.8/site-packages (from pydantic>=1.8->ray[serve]==1.5.0->kserve==0.7.0) (3.10.0.2)\n",
      "Requirement already satisfied: deprecated>=1.2.3 in /opt/conda/lib/python3.8/site-packages (from redis>=3.5.0->ray[serve]==1.5.0->kserve==0.7.0) (1.2.13)\n",
      "Requirement already satisfied: async-timeout>=4.0.2 in /opt/conda/lib/python3.8/site-packages (from redis>=3.5.0->ray[serve]==1.5.0->kserve==0.7.0) (4.0.2)\n",
      "Requirement already satisfied: charset-normalizer<3,>=2 in /opt/conda/lib/python3.8/site-packages (from requests>=2.18.4->azure-core==1.17.0->kserve==0.7.0) (2.1.1)\n",
      "Requirement already satisfied: oauthlib>=3.0.0 in /opt/conda/lib/python3.8/site-packages (from requests-oauthlib->kubernetes>=12.0.0->kserve==0.7.0) (3.2.1)\n",
      "Requirement already satisfied: aiosignal>=1.1.2 in /opt/conda/lib/python3.8/site-packages (from aiohttp->ray[serve]==1.5.0->kserve==0.7.0) (1.2.0)\n",
      "Requirement already satisfied: frozenlist>=1.1.1 in /opt/conda/lib/python3.8/site-packages (from aiohttp->ray[serve]==1.5.0->kserve==0.7.0) (1.3.1)\n",
      "Requirement already satisfied: attrs>=17.3.0 in /home/jovyan/.local/lib/python3.8/site-packages (from aiohttp->ray[serve]==1.5.0->kserve==0.7.0) (23.1.0)\n",
      "Requirement already satisfied: multidict<7.0,>=4.5 in /opt/conda/lib/python3.8/site-packages (from aiohttp->ray[serve]==1.5.0->kserve==0.7.0) (6.0.2)\n",
      "Requirement already satisfied: yarl<2.0,>=1.0 in /opt/conda/lib/python3.8/site-packages (from aiohttp->ray[serve]==1.5.0->kserve==0.7.0) (1.8.1)\n",
      "Requirement already satisfied: hiredis in /opt/conda/lib/python3.8/site-packages (from aioredis->ray[serve]==1.5.0->kserve==0.7.0) (2.0.0)\n",
      "Requirement already satisfied: anyio<5,>=3.4.0 in /opt/conda/lib/python3.8/site-packages (from starlette->ray[serve]==1.5.0->kserve==0.7.0) (3.6.1)\n",
      "Requirement already satisfied: nvidia-ml-py<=11.495.46,>=11.450.129 in /opt/conda/lib/python3.8/site-packages (from gpustat->ray[serve]==1.5.0->kserve==0.7.0) (11.495.46)\n",
      "Requirement already satisfied: blessed>=1.17.1 in /opt/conda/lib/python3.8/site-packages (from gpustat->ray[serve]==1.5.0->kserve==0.7.0) (1.19.1)\n",
      "Requirement already satisfied: pyrsistent>=0.14.0 in /opt/conda/lib/python3.8/site-packages (from jsonschema->ray[serve]==1.5.0->kserve==0.7.0) (0.18.1)\n",
      "Requirement already satisfied: opencensus-context>=0.1.3 in /opt/conda/lib/python3.8/site-packages (from opencensus->ray[serve]==1.5.0->kserve==0.7.0) (0.1.3)\n",
      "Requirement already satisfied: h11>=0.8 in /opt/conda/lib/python3.8/site-packages (from uvicorn->ray[serve]==1.5.0->kserve==0.7.0) (0.14.0)\n",
      "Requirement already satisfied: sniffio>=1.1 in /opt/conda/lib/python3.8/site-packages (from anyio<5,>=3.4.0->starlette->ray[serve]==1.5.0->kserve==0.7.0) (1.3.0)\n",
      "Requirement already satisfied: wcwidth>=0.1.4 in /opt/conda/lib/python3.8/site-packages (from blessed>=1.17.1->gpustat->ray[serve]==1.5.0->kserve==0.7.0) (0.2.5)\n",
      "Requirement already satisfied: wrapt<2,>=1.10 in /opt/conda/lib/python3.8/site-packages (from deprecated>=1.2.3->redis>=3.5.0->ray[serve]==1.5.0->kserve==0.7.0) (1.14.1)\n",
      "Requirement already satisfied: types-cryptography>=3.3.21 in /opt/conda/lib/python3.8/site-packages (from PyJWT<3,>=1.0.0->adal>=1.2.2->kserve==0.7.0) (3.3.23)\n",
      "Installing collected packages: certifi, argparse, idna, grpcio, googleapis-common-protos, configparser, cffi, cachetools, minio, google-auth, cryptography, botocore, s3transfer, google-api-core, azure-core, msrest, google-cloud-core, boto3, ray, msal-extensions, google-cloud-storage, azure-storage-blob, azure-identity, kserve\n",
      "  Attempting uninstall: botocore\n",
      "    Found existing installation: botocore 1.29.141\n",
      "    Uninstalling botocore-1.29.141:\n",
      "      Successfully uninstalled botocore-1.29.141\n",
      "  Attempting uninstall: s3transfer\n",
      "    Found existing installation: s3transfer 0.6.1\n",
      "    Uninstalling s3transfer-0.6.1:\n",
      "      Successfully uninstalled s3transfer-0.6.1\n",
      "  Attempting uninstall: boto3\n",
      "    Found existing installation: boto3 1.26.141\n",
      "    Uninstalling boto3-1.26.141:\n",
      "      Successfully uninstalled boto3-1.26.141\n",
      "\u001b[33m  WARNING: The scripts ray, ray-operator, rllib, serve and tune are installed in '/home/jovyan/.local/bin' which is not on PATH.\n",
      "  Consider adding this directory to PATH or, if you prefer to suppress this warning, use --no-warn-script-location.\u001b[0m\u001b[33m\n",
      "\u001b[0m\u001b[31mERROR: pip's dependency resolver does not currently take into account all the packages that are installed. This behaviour is the source of the following dependency conflicts.\n",
      "sagemaker 2.159.0 requires boto3<2.0,>=1.26.131, but you have boto3 1.18.18 which is incompatible.\n",
      "kfp 1.8.4 requires cloudpickle<2,>=1.3.0, but you have cloudpickle 2.2.1 which is incompatible.\n",
      "kfp 1.8.4 requires PyYAML<6,>=5.3, but you have pyyaml 6.0 which is incompatible.\n",
      "pyopenssl 22.0.0 requires cryptography>=35.0, but you have cryptography 3.4.7 which is incompatible.\n",
      "awscli 1.22.101 requires botocore==1.24.46, but you have botocore 1.21.18 which is incompatible.\n",
      "awscli 1.22.101 requires PyYAML<5.5,>=3.10, but you have pyyaml 6.0 which is incompatible.\u001b[0m\u001b[31m\n",
      "\u001b[0mSuccessfully installed argparse-1.4.0 azure-core-1.17.0 azure-identity-1.6.0 azure-storage-blob-12.8.1 boto3-1.18.18 botocore-1.21.18 cachetools-4.2.2 certifi-2021.5.30 cffi-1.14.6 configparser-5.3.0 cryptography-3.4.7 google-api-core-1.29.0 google-auth-1.34.0 google-cloud-core-2.2.2 google-cloud-storage-1.41.1 googleapis-common-protos-1.53.0 grpcio-1.38.1 idna-3.2 kserve-0.7.0 minio-6.0.2 msal-extensions-0.3.1 msrest-0.6.21 ray-1.5.0 s3transfer-0.5.2\n",
      "\n",
      "\u001b[1m[\u001b[0m\u001b[34;49mnotice\u001b[0m\u001b[1;39;49m]\u001b[0m\u001b[39;49m A new release of pip available: \u001b[0m\u001b[31;49m22.2.2\u001b[0m\u001b[39;49m -> \u001b[0m\u001b[32;49m23.1.2\u001b[0m\n",
      "\u001b[1m[\u001b[0m\u001b[34;49mnotice\u001b[0m\u001b[1;39;49m]\u001b[0m\u001b[39;49m To update, run: \u001b[0m\u001b[32;49mpip install --upgrade pip\u001b[0m\n",
      "Defaulting to user installation because normal site-packages is not writeable\n",
      "Collecting torch-model-archiver\n",
      "  Downloading torch_model_archiver-0.8.0-py3-none-any.whl (14 kB)\n",
      "Collecting enum-compat\n",
      "  Downloading enum_compat-0.0.3-py3-none-any.whl (1.3 kB)\n",
      "Installing collected packages: enum-compat, torch-model-archiver\n",
      "\u001b[33m  WARNING: The script torch-model-archiver is installed in '/home/jovyan/.local/bin' which is not on PATH.\n",
      "  Consider adding this directory to PATH or, if you prefer to suppress this warning, use --no-warn-script-location.\u001b[0m\u001b[33m\n",
      "\u001b[0mSuccessfully installed enum-compat-0.0.3 torch-model-archiver-0.8.0\n",
      "\n",
      "\u001b[1m[\u001b[0m\u001b[34;49mnotice\u001b[0m\u001b[1;39;49m]\u001b[0m\u001b[39;49m A new release of pip available: \u001b[0m\u001b[31;49m22.2.2\u001b[0m\u001b[39;49m -> \u001b[0m\u001b[32;49m23.1.2\u001b[0m\n",
      "\u001b[1m[\u001b[0m\u001b[34;49mnotice\u001b[0m\u001b[1;39;49m]\u001b[0m\u001b[39;49m To update, run: \u001b[0m\u001b[32;49mpip install --upgrade pip\u001b[0m\n"
     ]
    }
   ],
   "source": [
    "# Restart Kernel after you have installed the utility\n",
    "\n",
    "# Install kserve python sdk to create and run InferenceService yaml\n",
    "#!pip install kserve==0.7.0\n",
    "\n",
    "# Install torch-model-archiver, a TorchServe utility to package all the model artifacts into a single TorchServe Model Archive Files (MAR). \n",
    "#!pip install torch-model-archiver"
   ]
  },
  {
   "cell_type": "code",
   "execution_count": 2,
   "id": "0dc9c965-6d11-4de2-b19d-64ad3544d12a",
   "metadata": {},
   "outputs": [],
   "source": [
    "import argparse\n",
    "import json\n",
    "import logging\n",
    "import os\n",
    "import sys\n",
    "import torch\n",
    "import torch.distributed as dist\n",
    "import torch.nn as nn\n",
    "import torch.nn.functional as F\n",
    "import torch.optim as optim\n",
    "import torch.utils.data\n",
    "import torch.utils.data.distributed\n",
    "import torchvision\n",
    "from torchvision import datasets, transforms\n",
    "import json\n",
    "#import subprocess\n",
    "from model import Net\n",
    "\n",
    "from kubernetes import client \n",
    "from kserve import KServeClient\n",
    "from kserve import constants\n",
    "from kserve import utils\n",
    "from kserve import V1beta1InferenceService\n",
    "from kserve import V1beta1InferenceServiceSpec\n",
    "from kserve import V1beta1PredictorSpec\n",
    "from kserve import V1beta1SKLearnSpec\n",
    "from kserve import V1beta1TorchServeSpec\n",
    "from kserve import V1beta1TorchServeSpec\n",
    "from kubernetes.client import models as k8s\n",
    "\n",
    "import kfp\n",
    "from kfp import components\n",
    "from kubeflow.training.utils import utils\n",
    "from kfp import dsl\n",
    "from kfp import compiler\n",
    "\n",
    "logger = logging.getLogger(__name__)\n",
    "logger.setLevel(logging.DEBUG)\n",
    "logger.addHandler(logging.StreamHandler(sys.stdout))"
   ]
  },
  {
   "cell_type": "code",
   "execution_count": 3,
   "id": "325ea145-e904-4787-a031-c909dc5264ee",
   "metadata": {},
   "outputs": [],
   "source": [
    "# Load the model created by training step  \n",
    "model = Net()"
   ]
  },
  {
   "cell_type": "markdown",
   "id": "171e3a50-bb00-41e2-af02-1f19a3d5ae45",
   "metadata": {},
   "source": [
    "## Load the model "
   ]
  },
  {
   "cell_type": "code",
   "execution_count": 8,
   "id": "d04d870e-01d5-4fb4-a447-321252023796",
   "metadata": {},
   "outputs": [
    {
     "name": "stdout",
     "output_type": "stream",
     "text": [
      "download: s3://kserve-model-20230526045744/model-kserve.pth to kserve_inference/model-kserve.pth\n"
     ]
    }
   ],
   "source": [
    "# Same bucket name that we used in notebook 1_submit_pytorchdist_k8s.ipynb\n",
    "s3_bucket_name='kserve-model-20230526045744'\n",
    "model_name='model-kserve.pth'\n",
    "!aws s3 cp s3://{s3_bucket_name}/{model_name} ./kserve_inference"
   ]
  },
  {
   "cell_type": "markdown",
   "id": "e769232f-d8f6-490f-a434-38e378f37452",
   "metadata": {},
   "source": [
    "## Create model store required by KServe/TorchServe integration"
   ]
  },
  {
   "cell_type": "code",
   "execution_count": 10,
   "id": "d93563dc-ca8e-4c88-965f-096bdd3f2e6e",
   "metadata": {},
   "outputs": [],
   "source": [
    "# Generate the MAR file with torch-model-archiver\n",
    "!$HOME/.local/bin/torch-model-archiver -f --model-name cifar --version 1.0 --model-file ./kserve_inference/model.py --serialized-file ./kserve_inference/model-kserve.pth --handler  ./kserve_inference/model_handler.py & mv cifar.mar ./kserve_inference/"
   ]
  },
  {
   "cell_type": "code",
   "execution_count": null,
   "id": "1b55a3b6-6699-4450-9ba9-a49cedb8cb66",
   "metadata": {},
   "outputs": [],
   "source": [
    "#Clean up the madel_layout package if it is alread there\n",
    "#!rm -r model_layout"
   ]
  },
  {
   "cell_type": "code",
   "execution_count": 11,
   "id": "02d8693f-9832-49c5-b5f2-4e71256369c4",
   "metadata": {},
   "outputs": [],
   "source": [
    "#Create a model store layout required by the PyTorch Serve\n",
    "!mkdir -p kserve_inference/model_layout/config \n",
    "!mkdir -p kserve_inference/model_layout/model-store"
   ]
  },
  {
   "cell_type": "code",
   "execution_count": 15,
   "id": "6cce085a-bbb4-437e-aa27-289180b78747",
   "metadata": {},
   "outputs": [],
   "source": [
    "# Copy the model archive\n",
    "!cp kserve_inference/cifar.mar kserve_inference/model_layout/model-store/\n",
    "!cp kserve_inference/config.properties kserve_inference/model_layout/config/"
   ]
  },
  {
   "cell_type": "code",
   "execution_count": 16,
   "id": "d78eed34-e351-43d9-8880-ca2873a6459b",
   "metadata": {},
   "outputs": [
    {
     "name": "stdout",
     "output_type": "stream",
     "text": [
      "upload: kserve_inference/model_layout/config/config.properties to s3://kserve-model-20230526045744/config/config.properties\n",
      "upload: kserve_inference/model_layout/model-store/cifar.mar to s3://kserve-model-20230526045744/model-store/cifar.mar\n"
     ]
    }
   ],
   "source": [
    "# Load the model package to S3 bucket \n",
    "!aws s3 cp ./kserve_inference/model_layout s3://{s3_bucket_name}/ --recursive"
   ]
  },
  {
   "cell_type": "code",
   "execution_count": 17,
   "id": "2134bd98-f213-4ed6-95fb-999cca795d78",
   "metadata": {},
   "outputs": [
    {
     "data": {
      "text/plain": [
       "'kubeflow-user-example-com'"
      ]
     },
     "execution_count": 17,
     "metadata": {},
     "output_type": "execute_result"
    }
   ],
   "source": [
    "namespace = utils.get_default_target_namespace()\n",
    "namespace"
   ]
  },
  {
   "cell_type": "markdown",
   "id": "5a7388d6-a7e9-4a40-bbcd-530e9ab6f692",
   "metadata": {},
   "source": [
    "## Create InferenceService yaml"
   ]
  },
  {
   "cell_type": "code",
   "execution_count": 22,
   "id": "4cbf38c9-4175-4247-995c-75a70c4707e4",
   "metadata": {
    "tags": []
   },
   "outputs": [],
   "source": [
    "resource_req=k8s.V1ResourceRequirements(requests={'cpu':'100m'})\n",
    "predictor_spec=V1beta1PredictorSpec(service_account_name=\"aws-sa\",\n",
    "                                    pytorch=(V1beta1TorchServeSpec(\n",
    "                                   resources=resource_req,\n",
    "                                   storage_uri=f's3://{s3_bucket_name}')))\n",
    "    \n",
    "#predictor_spec"
   ]
  },
  {
   "cell_type": "code",
   "execution_count": 23,
   "id": "0a6009bd-f151-4fad-8ec3-c6221dd1e257",
   "metadata": {},
   "outputs": [],
   "source": [
    "inference_endpoint='image-classify'\n",
    "kserve_version='v1beta1'\n",
    "api_version = constants.KSERVE_GROUP + '/' + kserve_version\n",
    "\n",
    "isvc = V1beta1InferenceService(api_version=api_version,\n",
    "                               kind=constants.KSERVE_KIND,\n",
    "                               metadata=client.V1ObjectMeta(\n",
    "                                   name=inference_endpoint, namespace=namespace, annotations={'sidecar.istio.io/inject':'false'}),\n",
    "                               spec=V1beta1InferenceServiceSpec(\n",
    "                               predictor=predictor_spec)\n",
    ")\n",
    "\n",
    "#isvc"
   ]
  },
  {
   "cell_type": "code",
   "execution_count": 24,
   "id": "39c1d531-7ac9-49c3-a6c2-daa0b90ba0a5",
   "metadata": {
    "tags": []
   },
   "outputs": [
    {
     "data": {
      "text/plain": [
       "{'apiVersion': 'serving.kserve.io/v1beta1',\n",
       " 'kind': 'InferenceService',\n",
       " 'metadata': {'annotations': {'sidecar.istio.io/inject': 'false'},\n",
       "  'creationTimestamp': '2023-05-26T05:32:12Z',\n",
       "  'generation': 1,\n",
       "  'labels': {'serviceEnvelope': 'kserve'},\n",
       "  'managedFields': [{'apiVersion': 'serving.kserve.io/v1beta1',\n",
       "    'fieldsType': 'FieldsV1',\n",
       "    'fieldsV1': {'f:metadata': {'f:annotations': {'.': {},\n",
       "       'f:sidecar.istio.io/inject': {}}},\n",
       "     'f:spec': {'.': {},\n",
       "      'f:predictor': {'.': {},\n",
       "       'f:pytorch': {'.': {},\n",
       "        'f:resources': {'.': {}, 'f:requests': {'.': {}, 'f:cpu': {}}},\n",
       "        'f:storageUri': {}},\n",
       "       'f:serviceAccountName': {}}}},\n",
       "    'manager': 'OpenAPI-Generator',\n",
       "    'operation': 'Update',\n",
       "    'time': '2023-05-26T05:32:10Z'}],\n",
       "  'name': 'image-classify',\n",
       "  'namespace': 'kubeflow-user-example-com',\n",
       "  'resourceVersion': '61244274',\n",
       "  'uid': 'db2d2d20-9396-476e-aba9-b627b997794c'},\n",
       " 'spec': {'predictor': {'model': {'modelFormat': {'name': 'pytorch'},\n",
       "    'name': '',\n",
       "    'resources': {'requests': {'cpu': '100m'}},\n",
       "    'runtime': 'kserve-torchserve',\n",
       "    'storageUri': 's3://kserve-model-20230526045744'},\n",
       "   'serviceAccountName': 'aws-sa'}}}"
      ]
     },
     "execution_count": 24,
     "metadata": {},
     "output_type": "execute_result"
    }
   ],
   "source": [
    "#Create KServe Inference EndPoint\n",
    "KServe = KServeClient()\n",
    "KServe.create(isvc)"
   ]
  },
  {
   "cell_type": "code",
   "execution_count": 21,
   "id": "7780d061-ebcc-4afb-9d47-7b03847405f5",
   "metadata": {
    "tags": []
   },
   "outputs": [
    {
     "data": {
      "text/plain": [
       "{'apiVersion': 'serving.kserve.io/v1beta1',\n",
       " 'kind': 'InferenceService',\n",
       " 'metadata': {'creationTimestamp': '2023-05-26T02:49:11Z',\n",
       "  'deletionGracePeriodSeconds': 0,\n",
       "  'deletionTimestamp': '2023-05-26T05:32:00Z',\n",
       "  'finalizers': ['inferenceservice.finalizers'],\n",
       "  'generation': 2,\n",
       "  'labels': {'serviceEnvelope': 'kserve'},\n",
       "  'managedFields': [{'apiVersion': 'serving.kserve.io/v1beta1',\n",
       "    'fieldsType': 'FieldsV1',\n",
       "    'fieldsV1': {'f:spec': {'.': {},\n",
       "      'f:predictor': {'.': {},\n",
       "       'f:canaryTrafficPercent': {},\n",
       "       'f:pytorch': {'.': {}, 'f:name': {}, 'f:storageUri': {}},\n",
       "       'f:serviceAccountName': {},\n",
       "       'f:timeout': {}}}},\n",
       "    'manager': 'OpenAPI-Generator',\n",
       "    'operation': 'Update',\n",
       "    'time': '2023-05-26T02:49:09Z'},\n",
       "   {'apiVersion': 'serving.kserve.io/v1beta1',\n",
       "    'fieldsType': 'FieldsV1',\n",
       "    'fieldsV1': {'f:metadata': {'f:finalizers': {'.': {},\n",
       "       'v:\"inferenceservice.finalizers\"': {}}}},\n",
       "    'manager': 'manager',\n",
       "    'operation': 'Update',\n",
       "    'time': '2023-05-26T02:49:11Z'},\n",
       "   {'apiVersion': 'serving.kserve.io/v1beta1',\n",
       "    'fieldsType': 'FieldsV1',\n",
       "    'fieldsV1': {'f:status': {'.': {},\n",
       "      'f:address': {'.': {}, 'f:url': {}},\n",
       "      'f:components': {'.': {},\n",
       "       'f:predictor': {'.': {},\n",
       "        'f:address': {'.': {}, 'f:url': {}},\n",
       "        'f:latestCreatedRevision': {},\n",
       "        'f:latestReadyRevision': {},\n",
       "        'f:latestRolledoutRevision': {},\n",
       "        'f:traffic': {},\n",
       "        'f:url': {}}},\n",
       "      'f:conditions': {},\n",
       "      'f:url': {}}},\n",
       "    'manager': 'manager',\n",
       "    'operation': 'Update',\n",
       "    'subresource': 'status',\n",
       "    'time': '2023-05-26T02:49:28Z'}],\n",
       "  'name': 'image-classify',\n",
       "  'namespace': 'kubeflow-user-example-com',\n",
       "  'resourceVersion': '61244115',\n",
       "  'uid': '9d143cf1-4dd9-4c2d-91b8-ff4a29ae4e6c'},\n",
       " 'spec': {'predictor': {'canaryTrafficPercent': 100,\n",
       "   'model': {'modelFormat': {'name': 'pytorch'},\n",
       "    'name': '',\n",
       "    'resources': {},\n",
       "    'runtime': 'kserve-torchserve',\n",
       "    'storageUri': 's3://kserve-test-1234567'},\n",
       "   'timeout': 60}},\n",
       " 'status': {'address': {'url': 'http://image-classify.kubeflow-user-example-com.svc.cluster.local/v2/models/image-classify/infer'},\n",
       "  'components': {'predictor': {'address': {'url': 'http://image-classify-predictor-default.kubeflow-user-example-com.svc.cluster.local'},\n",
       "    'latestCreatedRevision': 'image-classify-predictor-default-00001',\n",
       "    'latestReadyRevision': 'image-classify-predictor-default-00001',\n",
       "    'latestRolledoutRevision': 'image-classify-predictor-default-00001',\n",
       "    'traffic': [{'latestRevision': True,\n",
       "      'percent': 100,\n",
       "      'revisionName': 'image-classify-predictor-default-00001'}],\n",
       "    'url': 'http://image-classify-predictor-default.kubeflow-user-example-com.example.com'}},\n",
       "  'conditions': [{'lastTransitionTime': '2023-05-26T02:49:28Z',\n",
       "    'status': 'True',\n",
       "    'type': 'IngressReady'},\n",
       "   {'lastTransitionTime': '2023-05-26T02:49:28Z',\n",
       "    'severity': 'Info',\n",
       "    'status': 'True',\n",
       "    'type': 'PredictorConfigurationReady'},\n",
       "   {'lastTransitionTime': '2023-05-26T02:49:28Z',\n",
       "    'status': 'True',\n",
       "    'type': 'PredictorReady'},\n",
       "   {'lastTransitionTime': '2023-05-26T02:49:28Z',\n",
       "    'severity': 'Info',\n",
       "    'status': 'True',\n",
       "    'type': 'PredictorRouteReady'},\n",
       "   {'lastTransitionTime': '2023-05-26T02:49:28Z',\n",
       "    'status': 'True',\n",
       "    'type': 'Ready'}],\n",
       "  'url': 'http://image-classify.kubeflow-user-example-com.example.com'}}"
      ]
     },
     "execution_count": 21,
     "metadata": {},
     "output_type": "execute_result"
    }
   ],
   "source": [
    "#Delete the KServe Inference EndPoint \n",
    "#name=\"image-classify\"\n",
    "#KServe.delete(name, namespace=namespace)"
   ]
  },
  {
   "cell_type": "code",
   "execution_count": null,
   "id": "f6e84477-c825-48f6-a4ba-fd9f90b5f17e",
   "metadata": {
    "tags": []
   },
   "outputs": [],
   "source": [
    "#KServe.get(inference_endpoint, namespace=namespace)"
   ]
  },
  {
   "cell_type": "code",
   "execution_count": null,
   "id": "a05ec6b9-110e-4504-9307-829d36d428fe",
   "metadata": {
    "tags": []
   },
   "outputs": [],
   "source": [
    "KServe.get(inference_endpoint, namespace=namespace, timeout_seconds=120)"
   ]
  }
 ],
 "metadata": {
  "kernelspec": {
   "display_name": "Python 3 (ipykernel)",
   "language": "python",
   "name": "python3"
  },
  "language_info": {
   "codemirror_mode": {
    "name": "ipython",
    "version": 3
   },
   "file_extension": ".py",
   "mimetype": "text/x-python",
   "name": "python",
   "nbconvert_exporter": "python",
   "pygments_lexer": "ipython3",
   "version": "3.8.13"
  }
 },
 "nbformat": 4,
 "nbformat_minor": 5
}
